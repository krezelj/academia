{
 "cells": [
  {
   "cell_type": "code",
   "execution_count": 1,
   "metadata": {},
   "outputs": [],
   "source": [
    "import sys\n",
    "sys.path.append('../..')"
   ]
  },
  {
   "cell_type": "code",
   "execution_count": 2,
   "metadata": {},
   "outputs": [
    {
     "name": "stdout",
     "output_type": "stream",
     "text": [
      "pygame 2.5.2 (SDL 2.28.3, Python 3.9.16)\n",
      "Hello from the pygame community. https://www.pygame.org/contribute.html\n"
     ]
    }
   ],
   "source": [
    "import numpy as np\n",
    "\n",
    "import academia.tools.visualizations as vis\n",
    "from academia.curriculum import LearningStats"
   ]
  },
  {
   "cell_type": "code",
   "execution_count": 37,
   "metadata": {},
   "outputs": [],
   "source": [
    "sparse_curr_stats = [{\n",
    "    '1': LearningStats.load(f'./outputs/sparse/curriculum_{i}/1'),\n",
    "    '2': LearningStats.load(f'./outputs/sparse/curriculum_{i}/2'),\n",
    "    '3': LearningStats.load(f'./outputs/sparse/curriculum_{i}/3'),\n",
    "} for i in range(10)]\n",
    "sparse_no_curr_stats = [{\n",
    "    'nocurr': LearningStats.load(f'./outputs/sparse/nocurriculum_{i}/nocurr')\n",
    "} for i in range(8)]\n",
    "dense_curr_stats = [{\n",
    "    '1': LearningStats.load(f'./outputs/dense/curriculum_{i}/1'),\n",
    "    '2': LearningStats.load(f'./outputs/dense/curriculum_{i}/2'),\n",
    "    '3': LearningStats.load(f'./outputs/dense/curriculum_{i}/3'),\n",
    "} for i in range(10)]\n",
    "dense_no_curr_stats = [{\n",
    "    'nocurr': LearningStats.load(f'./outputs/dense/nocurriculum_{i}/nocurr')\n",
    "} for i in range(10)]"
   ]
  },
  {
   "cell_type": "code",
   "execution_count": 40,
   "metadata": {},
   "outputs": [],
   "source": [
    "vis.plot_trajectories([sparse_no_curr_stats, sparse_curr_stats, dense_curr_stats, dense_no_curr_stats], \n",
    "                      value_domain='agent_evaluations', time_domain='steps', save_path='./outputs/eval',\n",
    "                      task_trace_start='mean', show_run_traces=False, show_std=False)"
   ]
  }
 ],
 "metadata": {
  "kernelspec": {
   "display_name": "cl-project-env",
   "language": "python",
   "name": "python3"
  },
  "language_info": {
   "codemirror_mode": {
    "name": "ipython",
    "version": 3
   },
   "file_extension": ".py",
   "mimetype": "text/x-python",
   "name": "python",
   "nbconvert_exporter": "python",
   "pygments_lexer": "ipython3",
   "version": "3.9.16"
  }
 },
 "nbformat": 4,
 "nbformat_minor": 2
}
